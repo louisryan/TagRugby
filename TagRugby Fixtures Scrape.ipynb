{
 "metadata": {
  "name": ""
 },
 "nbformat": 3,
 "nbformat_minor": 0,
 "worksheets": [
  {
   "cells": [
    {
     "cell_type": "heading",
     "level": 1,
     "metadata": {},
     "source": [
      "Tag Rugby Fixtures"
     ]
    },
    {
     "cell_type": "heading",
     "level": 3,
     "metadata": {},
     "source": [
      "To Do:"
     ]
    },
    {
     "cell_type": "markdown",
     "metadata": {},
     "source": [
      "1. Accept league id as a parameter to the program\n",
      "2. Import all fixtures data from single page into page/DB\n",
      "3. Import all league data into page/DB\n",
      "4. Perform some exploratory data analysis on the matches(Evernote)\n",
      "5. Perform some predictive modelling to predict outcome of matches\n",
      "6. Do some nice graphing"
     ]
    },
    {
     "cell_type": "code",
     "collapsed": false,
     "input": [
      "from bs4 import BeautifulSoup\n",
      "from urllib2 import urlopen\n",
      "from datetime import datetime\n",
      "\n",
      "def make_soup(url):\n",
      "    html = urlopen(url).read()\n",
      "    return BeautifulSoup(html)"
     ],
     "language": "python",
     "metadata": {},
     "outputs": [],
     "prompt_number": 2
    },
    {
     "cell_type": "heading",
     "level": 3,
     "metadata": {},
     "source": [
      "Algorithm"
     ]
    },
    {
     "cell_type": "markdown",
     "metadata": {},
     "source": [
      "There are three seperate containers for each fixtures/result page(Phase 1-3). We'll extract all the data from the body tags"
     ]
    },
    {
     "cell_type": "code",
     "collapsed": false,
     "input": [
      "league_id = 597\n",
      "test_url = 'http://www.tagrugby.ie/Venue-Fixtures-Results.aspx?leagueid=' + str(league_id) "
     ],
     "language": "python",
     "metadata": {},
     "outputs": [],
     "prompt_number": 3
    },
    {
     "cell_type": "markdown",
     "metadata": {},
     "source": [
      "Method to extract the dirty score from the string"
     ]
    },
    {
     "cell_type": "code",
     "collapsed": false,
     "input": [
      "import mysql.connector as sql\n",
      "\n",
      "def connect() :\n",
      "\tdb_params = {\n",
      "\t\t'user' : \"root\",\n",
      "\t\t'password' : \"\",\n",
      "\t\t'host' : \"localhost\",\n",
      "\t\t'port' : 3306,\n",
      "\t\t'database' : \"TagRugby_V1\",\n",
      "\t\t'charset' : 'utf8',\n",
      "\t\t'collation' : 'utf8_general_ci',\n",
      "\t\t'buffered' : True\n",
      "\t}\n",
      "\treturn sql.connect(**db_params)\n",
      "\n",
      "conn = connect()\n",
      "cursor = conn.cursor()"
     ],
     "language": "python",
     "metadata": {},
     "outputs": [],
     "prompt_number": 5
    },
    {
     "cell_type": "code",
     "collapsed": false,
     "input": [
      "def get_score(score):\n",
      "    return score.split('-')"
     ],
     "language": "python",
     "metadata": {},
     "outputs": [],
     "prompt_number": 8
    },
    {
     "cell_type": "code",
     "collapsed": false,
     "input": [
      "def get_rows():\n",
      "    \n",
      "    soup = make_soup(test_url)\n",
      "    sections = soup.findAll('tbody')\n",
      "    for body in sections:\n",
      "           \n",
      "        phase = split_text(body.find('td', {'colspan':'6'}).string)[0]\n",
      "        \n",
      "        for tr in body.findAll('tr', ['rgRow', 'rgAltRow']):\n",
      "            row = tr.findAll('td')\n",
      "             \n",
      "            group = str(row[6].findNext('span').string)\n",
      "            date_time = str(datetime.strptime(row[1].string + row[2].string, \"%d/%m/%Y%H:%M\").strftime(\"%Y-%m-%d %H:%M:%S\"))\n",
      "            team_a = str(row[3].string)\n",
      "            team_b = str(row[5].string)\n",
      "            team_a_score = str(get_score(row[4].string)[0].strip()) \n",
      "            team_b_score = str(get_score(row[4].string)[1].strip())\n",
      "            \n",
      "            query = \"INSERT INTO fixtures_results VALUES (%s, %s, %s, %s, %s, %s, %s)\"\n",
      "            values = [phase, group, date_time, team_a, team_b, team_a_score, team_b_score]\n",
      "            print(values)\n",
      "            try :\n",
      "                cursor.execute(query, values)\n",
      "                conn.commit()\n",
      "            except sql.Error as err :\n",
      "                print err\n",
      "            break\n",
      "get_rows()"
     ],
     "language": "python",
     "metadata": {},
     "outputs": [
      {
       "output_type": "stream",
       "stream": "stdout",
       "text": [
        "[u' : Grading Phase ', '1', '2014-05-29 18:45:00', 'Terrys Tag Team', 'The RagTags', '24', '2']\n",
        "[u' : Round Robin Phase ', '9', '2014-06-19 19:30:00', 'Racing Metrosoft', 'Buckfast Babies', '18', '14']\n",
        "[u' : Knockout Phase ', '15', '2014-07-10 21:00:00', 'Railway Panthers B', 'Rag Ma Tag', '', '']\n",
        "1366 (HY000): Incorrect integer value: '' for column 'team_a_score' at row 1\n"
       ]
      }
     ],
     "prompt_number": 11
    },
    {
     "cell_type": "code",
     "collapsed": false,
     "input": [
      "from IPython.display import HTML\n",
      "\n",
      "def css_styling():\n",
      "s    styles = open('./styles/custom.css').read()\n",
      "    return HTML(styles)\n",
      "\n",
      "css_styling()"
     ],
     "language": "python",
     "metadata": {},
     "outputs": [
      {
       "html": [
        "<style>\n",
        "    @font-face {\n",
        "        font-family: \"Computer Modern\";\n",
        "        src: url('http://9dbb143991406a7c655e-aa5fcb0a5a4ec34cff238a2d56ca4144.r56.cf5.rackcdn.com/cmunss.otf');\n",
        "    }\n",
        "    @font-face {\n",
        "        font-family: \"Computer Modern\";\n",
        "        font-weight: bold;\n",
        "        src: url('http://9dbb143991406a7c655e-aa5fcb0a5a4ec34cff238a2d56ca4144.r56.cf5.rackcdn.com/cmunsx.otf');\n",
        "    }\n",
        "    @font-face {\n",
        "        font-family: \"Computer Modern\";\n",
        "        font-style: oblique;\n",
        "        src: url('http://9dbb143991406a7c655e-aa5fcb0a5a4ec34cff238a2d56ca4144.r56.cf5.rackcdn.com/cmunsi.otf');\n",
        "    }\n",
        "    @font-face {\n",
        "        font-family: \"Computer Modern\";\n",
        "        font-weight: bold;\n",
        "        font-style: oblique;\n",
        "        src: url('http://9dbb143991406a7c655e-aa5fcb0a5a4ec34cff238a2d56ca4144.r56.cf5.rackcdn.com/cmunso.otf');\n",
        "    }\n",
        "    div.cell{\n",
        "        width:800px;\n",
        "        margin-left:16% !important;\n",
        "        margin-right:auto;\n",
        "    }\n",
        "    h1 {\n",
        "        font-family: Helvetica, serif;\n",
        "        text-align: center;\n",
        "    }\n",
        "    h4{\n",
        "        margin-top:12px;\n",
        "        margin-bottom: 3px;\n",
        "       }\n",
        "    div.text_cell_render{\n",
        "        font-family: Computer Modern, \"Helvetica Neue\", Arial, Helvetica, Geneva, sans-serif;\n",
        "        line-height: 120%;\n",
        "        font-size: 120%;\n",
        "        width:800px;\n",
        "        margin-left:auto;\n",
        "        margin-right:auto;\n",
        "    }\n",
        "    .CodeMirror{\n",
        "            font-family: \"Source Code Pro\", source-code-pro,Consolas, monospace;\n",
        "    }\n",
        "    .prompt{\n",
        "        display: None;\n",
        "    }\n",
        "    .text_cell_render h5 {\n",
        "        font-weight: 300;\n",
        "        font-size: 22pt;\n",
        "        color: #4057A1;\n",
        "        font-style: italic;\n",
        "        margin-bottom: .5em;\n",
        "        margin-top: 0.5em;\n",
        "        display: block;\n",
        "    }\n",
        "    \n",
        "    .warning{\n",
        "        color: rgb( 240, 20, 20 )\n",
        "        }  \n",
        "</style>\n",
        "<script>\n",
        "    MathJax.Hub.Config({\n",
        "                        TeX: {\n",
        "                           extensions: [\"AMSmath.js\"]\n",
        "                           },\n",
        "                tex2jax: {\n",
        "                    inlineMath: [ ['$','$'], [\"\\\\(\",\"\\\\)\"] ],\n",
        "                    displayMath: [ ['$$','$$'], [\"\\\\[\",\"\\\\]\"] ]\n",
        "                },\n",
        "                displayAlign: 'center', // Change this to 'center' to center equations.\n",
        "                \"HTML-CSS\": {\n",
        "                    styles: {'.MathJax_Display': {\"margin\": 4}}\n",
        "                }\n",
        "        });\n",
        "</script>"
       ],
       "metadata": {},
       "output_type": "pyout",
       "prompt_number": 33,
       "text": [
        "<IPython.core.display.HTML at 0x1098bb290>"
       ]
      }
     ],
     "prompt_number": 33
    }
   ],
   "metadata": {}
  }
 ]
}
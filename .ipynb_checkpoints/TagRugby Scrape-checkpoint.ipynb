{
 "metadata": {
  "name": ""
 },
 "nbformat": 3,
 "nbformat_minor": 0,
 "worksheets": [
  {
   "cells": [
    {
     "cell_type": "heading",
     "level": 1,
     "metadata": {},
     "source": [
      "Tag Rugby"
     ]
    },
    {
     "cell_type": "code",
     "collapsed": false,
     "input": [
      "from bs4 import BeautifulSoup\n",
      "from urllib2 import urlopen\n",
      "\n",
      "def make_soup(url):\n",
      "    html = urlopen(url).read()\n",
      "    return BeautifulSoup(html)"
     ],
     "language": "python",
     "metadata": {},
     "outputs": [],
     "prompt_number": 34
    },
    {
     "cell_type": "heading",
     "level": 3,
     "metadata": {},
     "source": [
      "Algorithm"
     ]
    },
    {
     "cell_type": "markdown",
     "metadata": {},
     "source": [
      "There are three seperate containers for each fixtures/result page(Phase 1-3). We'll extract all the data from the body tags"
     ]
    },
    {
     "cell_type": "code",
     "collapsed": false,
     "input": [
      "test_url = 'http://www.tagrugby.ie/Venue-Fixtures-Results.aspx?leagueid=597'"
     ],
     "language": "python",
     "metadata": {},
     "outputs": [],
     "prompt_number": 5
    },
    {
     "cell_type": "markdown",
     "metadata": {},
     "source": [
      "Method to extract the dirty score from the string"
     ]
    },
    {
     "cell_type": "code",
     "collapsed": false,
     "input": [
      "def get_score(score):\n",
      "    return score.split('-')"
     ],
     "language": "python",
     "metadata": {},
     "outputs": [],
     "prompt_number": 6
    },
    {
     "cell_type": "code",
     "collapsed": false,
     "input": [
      "import mysql.connector as sql\n",
      "\n",
      "def get_rows():\n",
      "    \n",
      "    soup = make_soup(test_url)\n",
      "    body = soup.find('tbody')   # this is only going to find the first 'body' tag(amend for all)\n",
      "    \n",
      "    page_data = []   # dict to store \n",
      "    \n",
      "    for tr in body.findAll('tr', ['rgRow', 'rgAltRow']):\n",
      "        row = tr.findAll('td')\n",
      "        query = '''INSERT INTO fixtures_results(phase, group, datetime, team_a, team_b, team_a_score, team_b_score) \n",
      "                        VALUE (%s, %s, %s, %s, %s, %s, %s)'''\n",
      "        values = [int(1), int(row[6].findNext('span').string), row[1].string + \" \" + row[2].string, row[3].string, row[5].string,\n",
      "                  int(get_score(row[4].string)[0]), int(get_score(row[4].string)[1])]\n",
      "        try :\n",
      "                    cursor.execute(query, values)\n",
      "                    conn.commit()\n",
      "                except sql.Error as err :\n",
      "                    print err\n",
      "        #page_data.append({'phase'    : int(1),\n",
      "        #                  'group'    : int(row[6].findNext('span').string),\n",
      "        #                  'datetime' : row[1].string + \" \" + row[2].string,\n",
      "        #                  'team_a'   : row[3].string,\n",
      "        #                  'team_b'   : row[5].string,\n",
      "        #                  'team_a_score' : int(get_score(row[4].string)[0]),\n",
      "        #                  'team_b_score' : int(get_score(row[4].string)[1])\n",
      "        #                 })"
     ],
     "language": "python",
     "metadata": {},
     "outputs": [
      {
       "metadata": {},
       "output_type": "pyout",
       "prompt_number": 35,
       "text": [
        "{'datetime': u'29/05/2014 18:45',\n",
        " 'group': 1,\n",
        " 'phase': 1,\n",
        " 'team_a': u'Terrys Tag Team',\n",
        " 'team_a_score': 24,\n",
        " 'team_b': u'The RagTags',\n",
        " 'team_b_score': 2}"
       ]
      }
     ],
     "prompt_number": 35
    },
    {
     "cell_type": "code",
     "collapsed": false,
     "input": [
      "df = pd.DataFrame()\n",
      "\n",
      "for i in range(len(rows)):\n",
      "    df = df.append(rows[i], ignore_index=True)\n",
      "\n",
      "df.tail()"
     ],
     "language": "python",
     "metadata": {},
     "outputs": [
      {
       "html": [
        "<div style=\"max-height:1000px;max-width:1500px;overflow:auto;\">\n",
        "<table border=\"1\" class=\"dataframe\">\n",
        "  <thead>\n",
        "    <tr style=\"text-align: right;\">\n",
        "      <th></th>\n",
        "      <th>datetime</th>\n",
        "      <th>group</th>\n",
        "      <th>phase</th>\n",
        "      <th>team_a</th>\n",
        "      <th>team_a_score</th>\n",
        "      <th>team_b</th>\n",
        "      <th>team_b_score</th>\n",
        "    </tr>\n",
        "  </thead>\n",
        "  <tbody>\n",
        "    <tr>\n",
        "      <th>43</th>\n",
        "      <td> 29/05/2014 21:00</td>\n",
        "      <td> 8</td>\n",
        "      <td> 1</td>\n",
        "      <td> the Spartans </td>\n",
        "      <td> 25</td>\n",
        "      <td>  Breaking Tag</td>\n",
        "      <td>  9</td>\n",
        "    </tr>\n",
        "    <tr>\n",
        "      <th>44</th>\n",
        "      <td> 05/06/2014 19:30</td>\n",
        "      <td> 8</td>\n",
        "      <td> 1</td>\n",
        "      <td>   MMC Hammers</td>\n",
        "      <td>  6</td>\n",
        "      <td> the Spartans </td>\n",
        "      <td>  2</td>\n",
        "    </tr>\n",
        "    <tr>\n",
        "      <th>45</th>\n",
        "      <td> 05/06/2014 19:30</td>\n",
        "      <td> 8</td>\n",
        "      <td> 1</td>\n",
        "      <td>     Power Tag</td>\n",
        "      <td> 25</td>\n",
        "      <td>  Breaking Tag</td>\n",
        "      <td> 10</td>\n",
        "    </tr>\n",
        "    <tr>\n",
        "      <th>46</th>\n",
        "      <td> 12/06/2014 20:15</td>\n",
        "      <td> 8</td>\n",
        "      <td> 1</td>\n",
        "      <td>   MMC Hammers</td>\n",
        "      <td> 10</td>\n",
        "      <td>  Breaking Tag</td>\n",
        "      <td> 10</td>\n",
        "    </tr>\n",
        "    <tr>\n",
        "      <th>47</th>\n",
        "      <td> 12/06/2014 20:15</td>\n",
        "      <td> 8</td>\n",
        "      <td> 1</td>\n",
        "      <td>     Power Tag</td>\n",
        "      <td>  6</td>\n",
        "      <td> the Spartans </td>\n",
        "      <td> 17</td>\n",
        "    </tr>\n",
        "  </tbody>\n",
        "</table>\n",
        "<p>5 rows \u00d7 7 columns</p>\n",
        "</div>"
       ],
       "metadata": {},
       "output_type": "pyout",
       "prompt_number": 22,
       "text": [
        "            datetime  group  phase         team_a  team_a_score  \\\n",
        "43  29/05/2014 21:00      8      1  the Spartans             25   \n",
        "44  05/06/2014 19:30      8      1    MMC Hammers             6   \n",
        "45  05/06/2014 19:30      8      1      Power Tag            25   \n",
        "46  12/06/2014 20:15      8      1    MMC Hammers            10   \n",
        "47  12/06/2014 20:15      8      1      Power Tag             6   \n",
        "\n",
        "           team_b  team_b_score  \n",
        "43   Breaking Tag             9  \n",
        "44  the Spartans              2  \n",
        "45   Breaking Tag            10  \n",
        "46   Breaking Tag            10  \n",
        "47  the Spartans             17  \n",
        "\n",
        "[5 rows x 7 columns]"
       ]
      }
     ],
     "prompt_number": 22
    },
    {
     "cell_type": "code",
     "collapsed": false,
     "input": [
      "def connect() :\n",
      "\tdb_params = {\n",
      "\t\t'user' : \"root\",\n",
      "\t\t'password' : \"\",\n",
      "\t\t'host' : \"localhost\",\n",
      "\t\t'port' : 3306,\n",
      "\t\t'database' : \"TagRugby\",\n",
      "\t\t'charset' : 'utf8',\n",
      "\t\t'collation' : 'utf8_general_ci',\n",
      "\t\t'buffered' : True\n",
      "\t}\n",
      "\treturn sql.connect(**db_params)\n",
      "\n",
      "con = connect()"
     ],
     "language": "python",
     "metadata": {},
     "outputs": [],
     "prompt_number": 31
    },
    {
     "cell_type": "heading",
     "level": 3,
     "metadata": {},
     "source": [
      "Insert into MySQL DB"
     ]
    },
    {
     "cell_type": "code",
     "collapsed": false,
     "input": [
      "from IPython.display import HTML\n",
      "\n",
      "def css_styling():\n",
      "    styles = open('./styles/custom.css').read()\n",
      "    return HTML(styles)\n",
      "\n",
      "css_styling()"
     ],
     "language": "python",
     "metadata": {},
     "outputs": [
      {
       "html": [
        "<style>\n",
        "    @font-face {\n",
        "        font-family: \"Computer Modern\";\n",
        "        src: url('http://9dbb143991406a7c655e-aa5fcb0a5a4ec34cff238a2d56ca4144.r56.cf5.rackcdn.com/cmunss.otf');\n",
        "    }\n",
        "    @font-face {\n",
        "        font-family: \"Computer Modern\";\n",
        "        font-weight: bold;\n",
        "        src: url('http://9dbb143991406a7c655e-aa5fcb0a5a4ec34cff238a2d56ca4144.r56.cf5.rackcdn.com/cmunsx.otf');\n",
        "    }\n",
        "    @font-face {\n",
        "        font-family: \"Computer Modern\";\n",
        "        font-style: oblique;\n",
        "        src: url('http://9dbb143991406a7c655e-aa5fcb0a5a4ec34cff238a2d56ca4144.r56.cf5.rackcdn.com/cmunsi.otf');\n",
        "    }\n",
        "    @font-face {\n",
        "        font-family: \"Computer Modern\";\n",
        "        font-weight: bold;\n",
        "        font-style: oblique;\n",
        "        src: url('http://9dbb143991406a7c655e-aa5fcb0a5a4ec34cff238a2d56ca4144.r56.cf5.rackcdn.com/cmunso.otf');\n",
        "    }\n",
        "    div.cell{\n",
        "        width:800px;\n",
        "        margin-left:16% !important;\n",
        "        margin-right:auto;\n",
        "    }\n",
        "    h1 {\n",
        "        font-family: Helvetica, serif;\n",
        "        text-align: center;\n",
        "    }\n",
        "    h4{\n",
        "        margin-top:12px;\n",
        "        margin-bottom: 3px;\n",
        "       }\n",
        "    div.text_cell_render{\n",
        "        font-family: Computer Modern, \"Helvetica Neue\", Arial, Helvetica, Geneva, sans-serif;\n",
        "        line-height: 120%;\n",
        "        font-size: 120%;\n",
        "        width:800px;\n",
        "        margin-left:auto;\n",
        "        margin-right:auto;\n",
        "    }\n",
        "    .CodeMirror{\n",
        "            font-family: \"Source Code Pro\", source-code-pro,Consolas, monospace;\n",
        "    }\n",
        "    .prompt{\n",
        "        display: None;\n",
        "    }\n",
        "    .text_cell_render h5 {\n",
        "        font-weight: 300;\n",
        "        font-size: 22pt;\n",
        "        color: #4057A1;\n",
        "        font-style: italic;\n",
        "        margin-bottom: .5em;\n",
        "        margin-top: 0.5em;\n",
        "        display: block;\n",
        "    }\n",
        "    \n",
        "    .warning{\n",
        "        color: rgb( 240, 20, 20 )\n",
        "        }  \n",
        "</style>\n",
        "<script>\n",
        "    MathJax.Hub.Config({\n",
        "                        TeX: {\n",
        "                           extensions: [\"AMSmath.js\"]\n",
        "                           },\n",
        "                tex2jax: {\n",
        "                    inlineMath: [ ['$','$'], [\"\\\\(\",\"\\\\)\"] ],\n",
        "                    displayMath: [ ['$$','$$'], [\"\\\\[\",\"\\\\]\"] ]\n",
        "                },\n",
        "                displayAlign: 'center', // Change this to 'center' to center equations.\n",
        "                \"HTML-CSS\": {\n",
        "                    styles: {'.MathJax_Display': {\"margin\": 4}}\n",
        "                }\n",
        "        });\n",
        "</script>"
       ],
       "metadata": {},
       "output_type": "pyout",
       "prompt_number": 33,
       "text": [
        "<IPython.core.display.HTML at 0x1098bb290>"
       ]
      }
     ],
     "prompt_number": 33
    }
   ],
   "metadata": {}
  }
 ]
}